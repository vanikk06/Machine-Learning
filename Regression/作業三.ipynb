{
 "cells": [
  {
   "cell_type": "markdown",
   "metadata": {},
   "source": [
    "哲學四 05113010 陳鳳庭"
   ]
  },
  {
   "cell_type": "code",
   "execution_count": 1,
   "metadata": {},
   "outputs": [],
   "source": [
    "import pandas as pd"
   ]
  },
  {
   "cell_type": "markdown",
   "metadata": {},
   "source": [
    "#### 將原本.xls的檔案，另存.csv檔，並更改編碼為UTF8"
   ]
  },
  {
   "cell_type": "code",
   "execution_count": 2,
   "metadata": {},
   "outputs": [],
   "source": [
    "data = pd.read_csv('Concrete_Data.csv')"
   ]
  },
  {
   "cell_type": "code",
   "execution_count": 3,
   "metadata": {},
   "outputs": [
    {
     "data": {
      "text/plain": [
       "Index(['Cement', 'Blast Furnace Slag', 'Fly Ash ', 'Water ',\n",
       "       'Superplasticizer ', 'Coarse Aggregate  ', 'Fine Aggregate ', 'Age',\n",
       "       'Concrete compressive strength'],\n",
       "      dtype='object')"
      ]
     },
     "execution_count": 3,
     "metadata": {},
     "output_type": "execute_result"
    }
   ],
   "source": [
    "data.columns   #查看column"
   ]
  },
  {
   "cell_type": "code",
   "execution_count": 4,
   "metadata": {},
   "outputs": [],
   "source": [
    "var = ['Cement', 'Blast Furnace Slag', 'Fly Ash ', 'Water ','Superplasticizer ', 'Coarse Aggregate  ', 'Fine Aggregate ', 'Age','Concrete compressive strength']"
   ]
  },
  {
   "cell_type": "markdown",
   "metadata": {},
   "source": [
    "# 變數間的相關係數"
   ]
  },
  {
   "cell_type": "code",
   "execution_count": 8,
   "metadata": {
    "scrolled": false
   },
   "outputs": [
    {
     "data": {
      "text/plain": [
       "array([[ 1.        , -0.27521591, -0.39746734, -0.08158675,  0.09238617,\n",
       "        -0.10934899, -0.22271785,  0.08194602,  0.49783192],\n",
       "       [-0.27521591,  1.        , -0.3235799 ,  0.10725203,  0.04327042,\n",
       "        -0.28399861, -0.28160267, -0.04424602,  0.13482926],\n",
       "       [-0.39746734, -0.3235799 ,  1.        , -0.25698402,  0.37750315,\n",
       "        -0.00996083,  0.07910849, -0.15437052, -0.10575492],\n",
       "       [-0.08158675,  0.10725203, -0.25698402,  1.        , -0.65753291,\n",
       "        -0.1822936 , -0.45066117,  0.27761822, -0.28963338],\n",
       "       [ 0.09238617,  0.04327042,  0.37750315, -0.65753291,  1.        ,\n",
       "        -0.26599915,  0.22269123, -0.19270003,  0.36607883],\n",
       "       [-0.10934899, -0.28399861, -0.00996083, -0.1822936 , -0.26599915,\n",
       "         1.        , -0.17848096, -0.00301588, -0.16493461],\n",
       "       [-0.22271785, -0.28160267,  0.07910849, -0.45066117,  0.22269123,\n",
       "        -0.17848096,  1.        , -0.1560947 , -0.16724125],\n",
       "       [ 0.08194602, -0.04424602, -0.15437052,  0.27761822, -0.19270003,\n",
       "        -0.00301588, -0.1560947 ,  1.        ,  0.328873  ],\n",
       "       [ 0.49783192,  0.13482926, -0.10575492, -0.28963338,  0.36607883,\n",
       "        -0.16493461, -0.16724125,  0.328873  ,  1.        ]])"
      ]
     },
     "execution_count": 8,
     "metadata": {},
     "output_type": "execute_result"
    }
   ],
   "source": [
    "import numpy as np\n",
    "\n",
    "cm = np.corrcoef(data[var].values.T)\n",
    "cm"
   ]
  },
  {
   "cell_type": "markdown",
   "metadata": {},
   "source": [
    "# 線性迴歸模型"
   ]
  },
  {
   "cell_type": "markdown",
   "metadata": {},
   "source": [
    "#### 先將data標準化，提升模型效率，再將data分割，區分train data跟test data"
   ]
  },
  {
   "cell_type": "code",
   "execution_count": 132,
   "metadata": {
    "scrolled": false
   },
   "outputs": [],
   "source": [
    "from sklearn.preprocessing import StandardScaler"
   ]
  },
  {
   "cell_type": "code",
   "execution_count": 133,
   "metadata": {},
   "outputs": [],
   "source": [
    "from sklearn.model_selection import train_test_split"
   ]
  },
  {
   "cell_type": "code",
   "execution_count": 198,
   "metadata": {},
   "outputs": [],
   "source": [
    "X = data[['Cement', 'Blast Furnace Slag', 'Fly Ash ', 'Water ','Superplasticizer ', 'Coarse Aggregate  ', 'Fine Aggregate ', 'Age']]\n",
    "y = data['Concrete compressive strength']\n",
    "\n",
    "sc = StandardScaler()\n",
    "X_std = sc.fit_transform(X.values)\n",
    "\n",
    "X_train, X_test, y_train, y_test = train_test_split(X_std, y, random_state=6)"
   ]
  },
  {
   "cell_type": "markdown",
   "metadata": {},
   "source": [
    "#### 得到線性迴歸係數"
   ]
  },
  {
   "cell_type": "code",
   "execution_count": 199,
   "metadata": {},
   "outputs": [],
   "source": [
    "from sklearn.linear_model import LinearRegression\n",
    "from sklearn.metrics import mean_squared_error\n",
    "from sklearn.metrics import r2_score"
   ]
  },
  {
   "cell_type": "code",
   "execution_count": 200,
   "metadata": {},
   "outputs": [
    {
     "name": "stdout",
     "output_type": "stream",
     "text": [
      "[12.33653151  8.19463474  5.69003352 -3.40978914  1.3959833   1.06312366\n",
      "  1.16714548  7.28030789]\n"
     ]
    }
   ],
   "source": [
    "lr = LinearRegression()\n",
    "\n",
    "lr.fit(X_train, y_train)\n",
    "print(lr.coef_)\n",
    "\n",
    "y_train_pred = lr.predict(X_train)\n",
    "y_test_pred = lr.predict(X_test)"
   ]
  },
  {
   "cell_type": "markdown",
   "metadata": {},
   "source": [
    "#### 計算MSE、R^2"
   ]
  },
  {
   "cell_type": "code",
   "execution_count": 201,
   "metadata": {
    "scrolled": false
   },
   "outputs": [
    {
     "name": "stdout",
     "output_type": "stream",
     "text": [
      "MSE_train: 101.479, MSE_test: 126.276\n",
      "R^2_train: 0.616, R^2_test: 0.606\n"
     ]
    }
   ],
   "source": [
    "print('MSE_train: %.3f, MSE_test: %.3f' % (mean_squared_error(y_train, y_train_pred), mean_squared_error(y_test, y_test_pred)))\n",
    "print('R^2_train: %.3f, R^2_test: %.3f' % (r2_score(y_train, y_train_pred), r2_score(y_test, y_test_pred)))"
   ]
  },
  {
   "cell_type": "markdown",
   "metadata": {},
   "source": [
    "👆🏻發現發生overfitting"
   ]
  },
  {
   "cell_type": "markdown",
   "metadata": {},
   "source": [
    "#### 將線性迴歸係數與相關係數放在一起比較"
   ]
  },
  {
   "cell_type": "code",
   "execution_count": 152,
   "metadata": {},
   "outputs": [],
   "source": [
    "linear_con = pd.DataFrame(lr.coef_.reshape(1,-1)) #線性迴歸係數\n",
    "coe = pd.DataFrame(cm[-1,:].reshape(1,-1)) #各變數與目標變數的相關係數\n",
    "df = pd.concat([linear_con, coe], axis=0, ignore_index=True)\n",
    "df.columns = var"
   ]
  },
  {
   "cell_type": "code",
   "execution_count": 153,
   "metadata": {
    "scrolled": true
   },
   "outputs": [
    {
     "data": {
      "text/html": [
       "<div>\n",
       "<style scoped>\n",
       "    .dataframe tbody tr th:only-of-type {\n",
       "        vertical-align: middle;\n",
       "    }\n",
       "\n",
       "    .dataframe tbody tr th {\n",
       "        vertical-align: top;\n",
       "    }\n",
       "\n",
       "    .dataframe thead th {\n",
       "        text-align: right;\n",
       "    }\n",
       "</style>\n",
       "<table border=\"1\" class=\"dataframe\">\n",
       "  <thead>\n",
       "    <tr style=\"text-align: right;\">\n",
       "      <th></th>\n",
       "      <th>Cement</th>\n",
       "      <th>Blast Furnace Slag</th>\n",
       "      <th>Fly Ash</th>\n",
       "      <th>Water</th>\n",
       "      <th>Superplasticizer</th>\n",
       "      <th>Coarse Aggregate</th>\n",
       "      <th>Fine Aggregate</th>\n",
       "      <th>Age</th>\n",
       "      <th>Concrete compressive strength</th>\n",
       "    </tr>\n",
       "  </thead>\n",
       "  <tbody>\n",
       "    <tr>\n",
       "      <th>0</th>\n",
       "      <td>12.336532</td>\n",
       "      <td>8.194635</td>\n",
       "      <td>5.690034</td>\n",
       "      <td>-3.409789</td>\n",
       "      <td>1.395983</td>\n",
       "      <td>1.063124</td>\n",
       "      <td>1.167145</td>\n",
       "      <td>7.280308</td>\n",
       "      <td>NaN</td>\n",
       "    </tr>\n",
       "    <tr>\n",
       "      <th>1</th>\n",
       "      <td>0.497832</td>\n",
       "      <td>0.134829</td>\n",
       "      <td>-0.105755</td>\n",
       "      <td>-0.289633</td>\n",
       "      <td>0.366079</td>\n",
       "      <td>-0.164935</td>\n",
       "      <td>-0.167241</td>\n",
       "      <td>0.328873</td>\n",
       "      <td>1.0</td>\n",
       "    </tr>\n",
       "  </tbody>\n",
       "</table>\n",
       "</div>"
      ],
      "text/plain": [
       "      Cement  Blast Furnace Slag  Fly Ash     Water   Superplasticizer   \\\n",
       "0  12.336532            8.194635  5.690034 -3.409789           1.395983   \n",
       "1   0.497832            0.134829 -0.105755 -0.289633           0.366079   \n",
       "\n",
       "   Coarse Aggregate    Fine Aggregate        Age  \\\n",
       "0            1.063124         1.167145  7.280308   \n",
       "1           -0.164935        -0.167241  0.328873   \n",
       "\n",
       "   Concrete compressive strength  \n",
       "0                            NaN  \n",
       "1                            1.0  "
      ]
     },
     "execution_count": 153,
     "metadata": {},
     "output_type": "execute_result"
    }
   ],
   "source": [
    "df"
   ]
  },
  {
   "cell_type": "markdown",
   "metadata": {},
   "source": [
    "     index[0]:線性迴歸係數\n",
    "     index[1]:各變數與目標變數的相關係數"
   ]
  },
  {
   "cell_type": "markdown",
   "metadata": {},
   "source": [
    "Q1: 從上面的比較可以發現，在 'Fly Ash', 'Coarse Aggregate', 'Fine Aggregate'的地方，發生了變號\n",
    "\n",
    "Q2: 從相關性來看，相關性大小與線性迴歸係數沒有呈現正向關係\n",
    "            \n",
    "            P.S.相關性第二大(Superplasticizer)的係數比相關性第三大(Age)的係數小"
   ]
  },
  {
   "cell_type": "markdown",
   "metadata": {},
   "source": [
    "----"
   ]
  },
  {
   "cell_type": "markdown",
   "metadata": {},
   "source": [
    "# 共線性問題處理"
   ]
  },
  {
   "cell_type": "markdown",
   "metadata": {},
   "source": [
    "- 確定目標：data的附註說明，每個特徵變數代表混泥土的一種成分，回歸線模型探討的是這些成分的組成對混泥土的抗壓性影響"
   ]
  },
  {
   "cell_type": "markdown",
   "metadata": {},
   "source": [
    "- 問題：由模型得出的回歸線係數，與其之間相關性關係出現**變號**（Q1）\n",
    "- 原因：**特徵變數**與**特徵變數**之間的相關關係影響扭曲了迴歸線係數"
   ]
  },
  {
   "cell_type": "markdown",
   "metadata": {},
   "source": [
    "#### 觀察"
   ]
  },
  {
   "cell_type": "code",
   "execution_count": 131,
   "metadata": {},
   "outputs": [],
   "source": [
    "import seaborn as sns\n",
    "import matplotlib.pyplot as plt"
   ]
  },
  {
   "cell_type": "code",
   "execution_count": 9,
   "metadata": {
    "scrolled": false
   },
   "outputs": [
    {
     "data": {
      "image/png": "[encoded data removed]",
      "text/plain": [
       "<Figure size 720x432 with 2 Axes>"
      ]
     },
     "metadata": {
      "needs_background": "light"
     },
     "output_type": "display_data"
    }
   ],
   "source": [
    "# 熱度圖\n",
    "\n",
    "plt.figure(figsize=(10,6)) #調整圖的大小\n",
    "hm = sns.heatmap(cm, cbar=True, annot=True, square=True, fmt='.2f', annot_kws={'size':10},xticklabels=var, yticklabels=var)"
   ]
  },
  {
   "cell_type": "markdown",
   "metadata": {},
   "source": [
    "熱度圖觀察相關性，從相關性高的逐步開始\n",
    "\n",
    "    No.1  Water與Superplasticizer：0.66的負相關\n",
    "    No.2  Cement與Concrete compressive strength：0.5的正相關\n",
    "    No.3  Water與Fine Aggregate：0.45的負相關\n",
    "    No.4  Cement與Fly Ash：0.4的負相關"
   ]
  },
  {
   "cell_type": "markdown",
   "metadata": {},
   "source": [
    "#### No.1   Water與Superplasticizer：0.66的負相關"
   ]
  },
  {
   "cell_type": "markdown",
   "metadata": {},
   "source": [
    "測試分別將這兩個特徵變數刪除，對迴歸線係數的影響為何\n",
    "\n",
    "   *P.S.僅為測試，因為 Water與 Superplasticizer這兩個特徵變數，對目標變數的相關性比起其他算高*"
   ]
  },
  {
   "cell_type": "code",
   "execution_count": 139,
   "metadata": {},
   "outputs": [],
   "source": [
    "data1 = data[['Cement', 'Blast Furnace Slag', 'Fly Ash ', 'Water ', 'Superplasticizer ', 'Coarse Aggregate  ', 'Fine Aggregate ','Age','Concrete compressive strength']]"
   ]
  },
  {
   "cell_type": "code",
   "execution_count": 142,
   "metadata": {},
   "outputs": [
    {
     "name": "stdout",
     "output_type": "stream",
     "text": [
      "[14.87213241 10.58332195  7.70695439  2.52101113  3.44318458  3.91632728\n",
      "  7.20698478]\n"
     ]
    }
   ],
   "source": [
    "#刪除 Water\n",
    "\n",
    "X = data1[['Cement', 'Blast Furnace Slag', 'Fly Ash ', 'Superplasticizer ', 'Coarse Aggregate  ', 'Fine Aggregate ', 'Age']]\n",
    "y = data1['Concrete compressive strength']\n",
    "\n",
    "sc = StandardScaler()\n",
    "X_std = sc.fit_transform(X.values)\n",
    "\n",
    "X_train, X_test, y_train, y_test = train_test_split(X_std, y, random_state=6)\n",
    "\n",
    "lr = LinearRegression()\n",
    "\n",
    "lr.fit(X_train, y_train)\n",
    "print(lr.coef_)"
   ]
  },
  {
   "cell_type": "markdown",
   "metadata": {},
   "source": [
    "❌變號無改變"
   ]
  },
  {
   "cell_type": "code",
   "execution_count": 143,
   "metadata": {},
   "outputs": [
    {
     "name": "stdout",
     "output_type": "stream",
     "text": [
      "[12.38603085  8.2363829   5.97896759 -4.52320163  0.45728706  0.86651359\n",
      "  7.31064528]\n"
     ]
    }
   ],
   "source": [
    "#刪除 Superplasticizer\n",
    "\n",
    "X = data1[['Cement', 'Blast Furnace Slag', 'Fly Ash ', 'Water ', 'Coarse Aggregate  ', 'Fine Aggregate ', 'Age']]\n",
    "y = data1['Concrete compressive strength']\n",
    "\n",
    "sc = StandardScaler()\n",
    "X_std = sc.fit_transform(X.values)\n",
    "\n",
    "X_train, X_test, y_train, y_test = train_test_split(X_std, y, random_state=6)\n",
    "\n",
    "lr = LinearRegression()\n",
    "\n",
    "lr.fit(X_train, y_train)\n",
    "print(lr.coef_)"
   ]
  },
  {
   "cell_type": "markdown",
   "metadata": {},
   "source": [
    "❌變號無改變"
   ]
  },
  {
   "cell_type": "markdown",
   "metadata": {},
   "source": [
    "#### No.2  Cement與Concrete compressive strength：0.5的正相關"
   ]
  },
  {
   "cell_type": "markdown",
   "metadata": {},
   "source": [
    "跳過，此為**特徵變數**與**目標變數**的相關性問題"
   ]
  },
  {
   "cell_type": "markdown",
   "metadata": {},
   "source": [
    "#### No.3  Water與Fine Aggregate：0.45的負相關"
   ]
  },
  {
   "cell_type": "code",
   "execution_count": 144,
   "metadata": {},
   "outputs": [
    {
     "name": "stdout",
     "output_type": "stream",
     "text": [
      "[11.26564436  7.14479269  4.80640059 -4.34923319  1.29218035  0.22959888\n",
      "  7.23576359]\n"
     ]
    }
   ],
   "source": [
    "#刪除 Fine Aggregate\n",
    "\n",
    "X = data1[['Cement', 'Blast Furnace Slag', 'Fly Ash ', 'Water ', 'Superplasticizer ', 'Coarse Aggregate  ', 'Age']]\n",
    "y = data1['Concrete compressive strength']\n",
    "\n",
    "sc = StandardScaler()\n",
    "X_std = sc.fit_transform(X.values)\n",
    "\n",
    "X_train, X_test, y_train, y_test = train_test_split(X_std, y, random_state=6)\n",
    "\n",
    "lr = LinearRegression()\n",
    "\n",
    "lr.fit(X_train, y_train)\n",
    "print(lr.coef_)"
   ]
  },
  {
   "cell_type": "markdown",
   "metadata": {},
   "source": [
    "❌變號無改變"
   ]
  },
  {
   "cell_type": "markdown",
   "metadata": {},
   "source": [
    "#### No.4  Cement與Fly Ash：0.4的負相關"
   ]
  },
  {
   "cell_type": "code",
   "execution_count": 193,
   "metadata": {},
   "outputs": [
    {
     "name": "stdout",
     "output_type": "stream",
     "text": [
      "[ 6.72192383  2.79641275 -7.11048538  1.93165723 -2.48693823 -3.57744807\n",
      "  6.98314581]\n"
     ]
    }
   ],
   "source": [
    "#刪除 Fly Ash\n",
    "\n",
    "X = data1[['Cement', 'Blast Furnace Slag', 'Water ', 'Superplasticizer ', 'Coarse Aggregate  ', 'Fine Aggregate ','Age']]\n",
    "y = data1['Concrete compressive strength']\n",
    "\n",
    "sc = StandardScaler()\n",
    "X_std = sc.fit_transform(X.values)\n",
    "\n",
    "X_train, X_test, y_train, y_test = train_test_split(X_std, y, random_state=6)\n",
    "\n",
    "lr_new = LinearRegression()\n",
    "\n",
    "lr_new.fit(X_train, y_train)\n",
    "print(lr_new.coef_)"
   ]
  },
  {
   "cell_type": "markdown",
   "metadata": {},
   "source": [
    "⭕變號解決\n",
    "\n",
    "        猜測：Cement與目標變數相關性最高，他受Fly Ash之間的相關性影響，因此扭曲迴歸線係數"
   ]
  },
  {
   "cell_type": "markdown",
   "metadata": {},
   "source": [
    "#### 新舊模型比較"
   ]
  },
  {
   "cell_type": "code",
   "execution_count": 162,
   "metadata": {},
   "outputs": [],
   "source": [
    "var1 = ['Cement', 'Blast Furnace Slag', 'Water ', 'Superplasticizer ', 'Coarse Aggregate  ', 'Fine Aggregate ','Age']"
   ]
  },
  {
   "cell_type": "code",
   "execution_count": 189,
   "metadata": {},
   "outputs": [],
   "source": [
    "new_linear_con = pd.DataFrame(lr_new.coef_.reshape(1,-1), columns=var1) #新線性迴歸係數\n",
    "df1 = pd.concat([df, new_linear_con],axis=0, join= 'outer', sort=False, ignore_index=True)"
   ]
  },
  {
   "cell_type": "code",
   "execution_count": 190,
   "metadata": {
    "scrolled": true
   },
   "outputs": [
    {
     "data": {
      "text/html": [
       "<div>\n",
       "<style scoped>\n",
       "    .dataframe tbody tr th:only-of-type {\n",
       "        vertical-align: middle;\n",
       "    }\n",
       "\n",
       "    .dataframe tbody tr th {\n",
       "        vertical-align: top;\n",
       "    }\n",
       "\n",
       "    .dataframe thead th {\n",
       "        text-align: right;\n",
       "    }\n",
       "</style>\n",
       "<table border=\"1\" class=\"dataframe\">\n",
       "  <thead>\n",
       "    <tr style=\"text-align: right;\">\n",
       "      <th></th>\n",
       "      <th>Cement</th>\n",
       "      <th>Blast Furnace Slag</th>\n",
       "      <th>Fly Ash</th>\n",
       "      <th>Water</th>\n",
       "      <th>Superplasticizer</th>\n",
       "      <th>Coarse Aggregate</th>\n",
       "      <th>Fine Aggregate</th>\n",
       "      <th>Age</th>\n",
       "      <th>Concrete compressive strength</th>\n",
       "    </tr>\n",
       "  </thead>\n",
       "  <tbody>\n",
       "    <tr>\n",
       "      <th>0</th>\n",
       "      <td>12.336532</td>\n",
       "      <td>8.194635</td>\n",
       "      <td>5.690034</td>\n",
       "      <td>-3.409789</td>\n",
       "      <td>1.395983</td>\n",
       "      <td>1.063124</td>\n",
       "      <td>1.167145</td>\n",
       "      <td>7.280308</td>\n",
       "      <td>NaN</td>\n",
       "    </tr>\n",
       "    <tr>\n",
       "      <th>1</th>\n",
       "      <td>0.497832</td>\n",
       "      <td>0.134829</td>\n",
       "      <td>-0.105755</td>\n",
       "      <td>-0.289633</td>\n",
       "      <td>0.366079</td>\n",
       "      <td>-0.164935</td>\n",
       "      <td>-0.167241</td>\n",
       "      <td>0.328873</td>\n",
       "      <td>1.0</td>\n",
       "    </tr>\n",
       "    <tr>\n",
       "      <th>2</th>\n",
       "      <td>6.721924</td>\n",
       "      <td>2.796413</td>\n",
       "      <td>NaN</td>\n",
       "      <td>-7.110485</td>\n",
       "      <td>1.931657</td>\n",
       "      <td>-2.486938</td>\n",
       "      <td>-3.577448</td>\n",
       "      <td>6.983146</td>\n",
       "      <td>NaN</td>\n",
       "    </tr>\n",
       "  </tbody>\n",
       "</table>\n",
       "</div>"
      ],
      "text/plain": [
       "      Cement  Blast Furnace Slag  Fly Ash     Water   Superplasticizer   \\\n",
       "0  12.336532            8.194635  5.690034 -3.409789           1.395983   \n",
       "1   0.497832            0.134829 -0.105755 -0.289633           0.366079   \n",
       "2   6.721924            2.796413       NaN -7.110485           1.931657   \n",
       "\n",
       "   Coarse Aggregate    Fine Aggregate        Age  \\\n",
       "0            1.063124         1.167145  7.280308   \n",
       "1           -0.164935        -0.167241  0.328873   \n",
       "2           -2.486938        -3.577448  6.983146   \n",
       "\n",
       "   Concrete compressive strength  \n",
       "0                            NaN  \n",
       "1                            1.0  \n",
       "2                            NaN  "
      ]
     },
     "execution_count": 190,
     "metadata": {},
     "output_type": "execute_result"
    }
   ],
   "source": [
    "df1"
   ]
  },
  {
   "cell_type": "markdown",
   "metadata": {},
   "source": [
    "     index[0]:舊_線性迴歸係數\n",
    "     index[1]:各變數與目標變數的相關係數\n",
    "     index[2]:新_線性迴歸係數"
   ]
  },
  {
   "cell_type": "markdown",
   "metadata": {},
   "source": [
    "#### 計算新MSE、R^2"
   ]
  },
  {
   "cell_type": "code",
   "execution_count": 194,
   "metadata": {
    "scrolled": true
   },
   "outputs": [],
   "source": [
    "y_train_pred = lr_new.predict(X_train)\n",
    "y_test_pred = lr_new.predict(X_test)"
   ]
  },
  {
   "cell_type": "code",
   "execution_count": 195,
   "metadata": {
    "scrolled": false
   },
   "outputs": [
    {
     "name": "stdout",
     "output_type": "stream",
     "text": [
      "MSE_train: 106.531, MSE_test: 131.776\n",
      "R^2_train: 0.597, R^2_test: 0.589\n"
     ]
    }
   ],
   "source": [
    "print('MSE_train: %.3f, MSE_test: %.3f' % (mean_squared_error(y_train, y_train_pred), mean_squared_error(y_test, y_test_pred)))\n",
    "print('R^2_train: %.3f, R^2_test: %.3f' % (r2_score(y_train, y_train_pred), r2_score(y_test, y_test_pred)))"
   ]
  },
  {
   "cell_type": "markdown",
   "metadata": {},
   "source": [
    "👆🏻無共線性問題的迴歸模型，就無出現overfitting問題"
   ]
  },
  {
   "cell_type": "markdown",
   "metadata": {},
   "source": [
    "雖然新模型的MSE較舊模型高，R^2也不如舊模型，但新模型沒有出現overfitting的問題，迴歸線係數也與相關係數同號，較符合模型用來預測的目標"
   ]
  },
  {
   "cell_type": "markdown",
   "metadata": {},
   "source": [
    "---"
   ]
  },
  {
   "cell_type": "markdown",
   "metadata": {},
   "source": [
    "[讀者提問：多元迴歸分析的變數選擇](https://taweihuang.hpd.io/2016/09/12/%e8%ae%80%e8%80%85%e6%8f%90%e5%95%8f%ef%bc%9a%e5%a4%9a%e5%85%83%e8%bf%b4%e6%ad%b8%e5%88%86%e6%9e%90%e7%9a%84%e8%ae%8a%e6%95%b8%e9%81%b8%e6%93%87/)"
   ]
  },
  {
   "cell_type": "markdown",
   "metadata": {},
   "source": [
    "- 多元迴歸模型\n",
    "   > 假設母體性質：反應變數與解釋變數存在**線性關係**\n",
    "   \n",
    "    - 解釋變數(explanatory variable)/特徵變數\n",
    "    - 反應變數(response variable)/目標變數\n",
    "    > 寫成矩陣：方便計算\n",
    "    \n",
    "    在寫出樣本的迴歸模型後，需要用抽樣得到的解釋變數實際值與反應變數實際值來估計母體參數\n",
    "    > 傳統透過**最小平方法(least square estimation)**進行估計，目標是極小化估計的平方誤差(sum of square error)"
   ]
  }
 ],
 "metadata": {
  "kernelspec": {
   "display_name": "Python 3",
   "language": "python",
   "name": "python3"
  },
  "language_info": {
   "codemirror_mode": {
    "name": "ipython",
    "version": 3
   },
   "file_extension": ".py",
   "mimetype": "text/x-python",
   "name": "python",
   "nbconvert_exporter": "python",
   "pygments_lexer": "ipython3",
   "version": "3.7.1"
  }
 },
 "nbformat": 4,
 "nbformat_minor": 2
}
