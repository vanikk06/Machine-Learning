{
 "cells": [
  {
   "cell_type": "code",
   "execution_count": 1,
   "metadata": {},
   "outputs": [],
   "source": [
    "import numpy as np"
   ]
  },
  {
   "cell_type": "code",
   "execution_count": 2,
   "metadata": {},
   "outputs": [],
   "source": [
    "import pandas as pd"
   ]
  },
  {
   "cell_type": "code",
   "execution_count": 3,
   "metadata": {},
   "outputs": [],
   "source": [
    "import matplotlib.pyplot as plt"
   ]
  },
  {
   "cell_type": "markdown",
   "metadata": {},
   "source": [
    "匯入一筆資料，每筆資料皆有一個x,y值"
   ]
  },
  {
   "cell_type": "code",
   "execution_count": 4,
   "metadata": {
    "scrolled": false
   },
   "outputs": [
    {
     "data": {
      "text/html": [
       "<div>\n",
       "<style scoped>\n",
       "    .dataframe tbody tr th:only-of-type {\n",
       "        vertical-align: middle;\n",
       "    }\n",
       "\n",
       "    .dataframe tbody tr th {\n",
       "        vertical-align: top;\n",
       "    }\n",
       "\n",
       "    .dataframe thead th {\n",
       "        text-align: right;\n",
       "    }\n",
       "</style>\n",
       "<table border=\"1\" class=\"dataframe\">\n",
       "  <thead>\n",
       "    <tr style=\"text-align: right;\">\n",
       "      <th></th>\n",
       "      <th>X</th>\n",
       "      <th>y</th>\n",
       "    </tr>\n",
       "  </thead>\n",
       "  <tbody>\n",
       "    <tr>\n",
       "      <th>0</th>\n",
       "      <td>1.394330</td>\n",
       "      <td>591</td>\n",
       "    </tr>\n",
       "    <tr>\n",
       "      <th>1</th>\n",
       "      <td>1.110690</td>\n",
       "      <td>539</td>\n",
       "    </tr>\n",
       "    <tr>\n",
       "      <th>2</th>\n",
       "      <td>0.095543</td>\n",
       "      <td>413</td>\n",
       "    </tr>\n",
       "    <tr>\n",
       "      <th>3</th>\n",
       "      <td>-1.591390</td>\n",
       "      <td>310</td>\n",
       "    </tr>\n",
       "    <tr>\n",
       "      <th>4</th>\n",
       "      <td>-0.844961</td>\n",
       "      <td>308</td>\n",
       "    </tr>\n",
       "    <tr>\n",
       "      <th>5</th>\n",
       "      <td>0.931547</td>\n",
       "      <td>519</td>\n",
       "    </tr>\n",
       "    <tr>\n",
       "      <th>6</th>\n",
       "      <td>-1.382390</td>\n",
       "      <td>325</td>\n",
       "    </tr>\n",
       "    <tr>\n",
       "      <th>7</th>\n",
       "      <td>-1.740680</td>\n",
       "      <td>332</td>\n",
       "    </tr>\n",
       "    <tr>\n",
       "      <th>8</th>\n",
       "      <td>0.468759</td>\n",
       "      <td>498</td>\n",
       "    </tr>\n",
       "    <tr>\n",
       "      <th>9</th>\n",
       "      <td>0.737474</td>\n",
       "      <td>498</td>\n",
       "    </tr>\n",
       "    <tr>\n",
       "      <th>10</th>\n",
       "      <td>-0.113458</td>\n",
       "      <td>392</td>\n",
       "    </tr>\n",
       "    <tr>\n",
       "      <th>11</th>\n",
       "      <td>-0.635960</td>\n",
       "      <td>334</td>\n",
       "    </tr>\n",
       "    <tr>\n",
       "      <th>12</th>\n",
       "      <td>-0.367244</td>\n",
       "      <td>385</td>\n",
       "    </tr>\n",
       "    <tr>\n",
       "      <th>13</th>\n",
       "      <td>-0.441888</td>\n",
       "      <td>387</td>\n",
       "    </tr>\n",
       "    <tr>\n",
       "      <th>14</th>\n",
       "      <td>0.304544</td>\n",
       "      <td>425</td>\n",
       "    </tr>\n",
       "    <tr>\n",
       "      <th>15</th>\n",
       "      <td>1.946690</td>\n",
       "      <td>659</td>\n",
       "    </tr>\n",
       "    <tr>\n",
       "      <th>16</th>\n",
       "      <td>0.259758</td>\n",
       "      <td>400</td>\n",
       "    </tr>\n",
       "    <tr>\n",
       "      <th>17</th>\n",
       "      <td>0.259758</td>\n",
       "      <td>427</td>\n",
       "    </tr>\n",
       "    <tr>\n",
       "      <th>18</th>\n",
       "      <td>-1.233110</td>\n",
       "      <td>319</td>\n",
       "    </tr>\n",
       "    <tr>\n",
       "      <th>19</th>\n",
       "      <td>0.841975</td>\n",
       "      <td>522</td>\n",
       "    </tr>\n",
       "  </tbody>\n",
       "</table>\n",
       "</div>"
      ],
      "text/plain": [
       "           X    y\n",
       "0   1.394330  591\n",
       "1   1.110690  539\n",
       "2   0.095543  413\n",
       "3  -1.591390  310\n",
       "4  -0.844961  308\n",
       "5   0.931547  519\n",
       "6  -1.382390  325\n",
       "7  -1.740680  332\n",
       "8   0.468759  498\n",
       "9   0.737474  498\n",
       "10 -0.113458  392\n",
       "11 -0.635960  334\n",
       "12 -0.367244  385\n",
       "13 -0.441888  387\n",
       "14  0.304544  425\n",
       "15  1.946690  659\n",
       "16  0.259758  400\n",
       "17  0.259758  427\n",
       "18 -1.233110  319\n",
       "19  0.841975  522"
      ]
     },
     "execution_count": 4,
     "metadata": {},
     "output_type": "execute_result"
    }
   ],
   "source": [
    "#Loading training data\n",
    "data = pd.read_csv('regression.csv')\n",
    "data"
   ]
  },
  {
   "cell_type": "markdown",
   "metadata": {},
   "source": [
    "將x、y值個別取出"
   ]
  },
  {
   "cell_type": "code",
   "execution_count": 5,
   "metadata": {},
   "outputs": [],
   "source": [
    "x = data.iloc[:, 0].values\n",
    "y = data.iloc[:, 1].values"
   ]
  },
  {
   "cell_type": "code",
   "execution_count": 6,
   "metadata": {
    "scrolled": true
   },
   "outputs": [
    {
     "data": {
      "text/html": [
       "<div>\n",
       "<style scoped>\n",
       "    .dataframe tbody tr th:only-of-type {\n",
       "        vertical-align: middle;\n",
       "    }\n",
       "\n",
       "    .dataframe tbody tr th {\n",
       "        vertical-align: top;\n",
       "    }\n",
       "\n",
       "    .dataframe thead th {\n",
       "        text-align: right;\n",
       "    }\n",
       "</style>\n",
       "<table border=\"1\" class=\"dataframe\">\n",
       "  <thead>\n",
       "    <tr style=\"text-align: right;\">\n",
       "      <th></th>\n",
       "      <th>X</th>\n",
       "      <th>y</th>\n",
       "    </tr>\n",
       "  </thead>\n",
       "  <tbody>\n",
       "    <tr>\n",
       "      <th>X</th>\n",
       "      <td>1.000000</td>\n",
       "      <td>0.949494</td>\n",
       "    </tr>\n",
       "    <tr>\n",
       "      <th>y</th>\n",
       "      <td>0.949494</td>\n",
       "      <td>1.000000</td>\n",
       "    </tr>\n",
       "  </tbody>\n",
       "</table>\n",
       "</div>"
      ],
      "text/plain": [
       "          X         y\n",
       "X  1.000000  0.949494\n",
       "y  0.949494  1.000000"
      ]
     },
     "execution_count": 6,
     "metadata": {},
     "output_type": "execute_result"
    }
   ],
   "source": [
    "data.corr() #相關係數"
   ]
  },
  {
   "cell_type": "markdown",
   "metadata": {},
   "source": [
    "- 目的：尋找這筆資料的回歸線\n",
    "- 方法：theta為回歸線的係數(theta1:斜率(係數),theta0:高度(截距))，從[0,0]開始慢慢找，用每點與回歸線的距離總和為判斷，找最小值"
   ]
  },
  {
   "cell_type": "code",
   "execution_count": 21,
   "metadata": {},
   "outputs": [],
   "source": [
    "theta = [0,0] #最初"
   ]
  },
  {
   "cell_type": "markdown",
   "metadata": {},
   "source": [
    "- h(x) = theta_0 + theta_1*x\n",
    "- h(x)-y → 平方總和為cost function\n",
    "         ↘調整theta_0\n",
    "- (h(x)-y)*x → 調整theta_1"
   ]
  },
  {
   "cell_type": "code",
   "execution_count": 22,
   "metadata": {},
   "outputs": [],
   "source": [
    "#cost function：點到回歸線的距離總和\n",
    "def ComputeCost(x,y):\n",
    "    sum_temp = 0\n",
    "    for i in range(len(x)):\n",
    "        h = theta[0]+theta[1]*x[i]\n",
    "        temp = (h - y[i])**2 \n",
    "        sum_temp += temp\n",
    "    return sum_temp/2"
   ]
  },
  {
   "cell_type": "code",
   "execution_count": 23,
   "metadata": {},
   "outputs": [
    {
     "data": {
      "text/plain": [
       "1938623.5"
      ]
     },
     "execution_count": 23,
     "metadata": {},
     "output_type": "execute_result"
    }
   ],
   "source": [
    "ComputeCost(x,y)"
   ]
  },
  {
   "cell_type": "markdown",
   "metadata": {},
   "source": [
    "用eta=0.01去update theta"
   ]
  },
  {
   "cell_type": "code",
   "execution_count": 24,
   "metadata": {},
   "outputs": [],
   "source": [
    "eta = 0.01"
   ]
  },
  {
   "cell_type": "code",
   "execution_count": 25,
   "metadata": {},
   "outputs": [],
   "source": [
    "count = 200\n",
    "temp = [0,0]\n",
    "theta0 = [0]\n",
    "theta1 = [0]\n",
    "costfunction = [1938623.5]\n",
    "\n",
    "for iter in range(1, count+1, 1):\n",
    "    sum_theta_0 = 0\n",
    "    sum_theta_1 = 0\n",
    "    for i in range(len(x)):\n",
    "        h = temp[0]+temp[1]*x[i]\n",
    "        theta_0 = h-y[i]\n",
    "        theta_1 = theta_0*x[i]\n",
    "        sum_theta_0 += theta_0\n",
    "        sum_theta_1 += theta_1\n",
    "    theta0.append(temp[0]-eta*sum_theta_0)\n",
    "    theta1.append(temp[1]-eta*sum_theta_1)\n",
    "    temp[0] = temp[0]-eta*sum_theta_0\n",
    "    temp[1] = temp[1]-eta*sum_theta_1\n",
    "    theta = temp\n",
    "    costfunction.append(ComputeCost(x,y))"
   ]
  },
  {
   "cell_type": "code",
   "execution_count": 26,
   "metadata": {},
   "outputs": [
    {
     "data": {
      "text/plain": [
       "201"
      ]
     },
     "execution_count": 26,
     "metadata": {},
     "output_type": "execute_result"
    }
   ],
   "source": [
    "len(costfunction)"
   ]
  },
  {
   "cell_type": "markdown",
   "metadata": {},
   "source": [
    "將跑出的結果存入data frame裡，找costfunction的最小值，從它的index找theta\n",
    "\n",
    "But 不知如何操作data frame，所以用別的方式解決"
   ]
  },
  {
   "cell_type": "code",
   "execution_count": 27,
   "metadata": {
    "scrolled": true
   },
   "outputs": [],
   "source": [
    "theta_data = pd.DataFrame({\"theta0\":theta0,\n",
    "                    \"theta1\":theta1,\n",
    "                    \"cost\":costfunction})\n",
    "# theta_data"
   ]
  },
  {
   "cell_type": "code",
   "execution_count": 28,
   "metadata": {},
   "outputs": [
    {
     "data": {
      "text/plain": [
       "9543.50038338561"
      ]
     },
     "execution_count": 28,
     "metadata": {},
     "output_type": "execute_result"
    }
   ],
   "source": [
    "min(costfunction)"
   ]
  },
  {
   "cell_type": "code",
   "execution_count": 29,
   "metadata": {},
   "outputs": [
    {
     "data": {
      "text/plain": [
       "147"
      ]
     },
     "execution_count": 29,
     "metadata": {},
     "output_type": "execute_result"
    }
   ],
   "source": [
    "costfunction.index(9543.50038338561)"
   ]
  },
  {
   "cell_type": "code",
   "execution_count": 30,
   "metadata": {
    "scrolled": true
   },
   "outputs": [
    {
     "data": {
      "text/plain": [
       "theta0     429.150060\n",
       "theta1      93.478800\n",
       "cost      9543.500383\n",
       "Name: 147, dtype: float64"
      ]
     },
     "execution_count": 30,
     "metadata": {},
     "output_type": "execute_result"
    }
   ],
   "source": [
    "theta_data.iloc[147,0:3]"
   ]
  },
  {
   "cell_type": "code",
   "execution_count": 31,
   "metadata": {},
   "outputs": [
    {
     "data": {
      "text/plain": [
       "Text(0, 0.5, 'y')"
      ]
     },
     "execution_count": 31,
     "metadata": {},
     "output_type": "execute_result"
    },
    {
     "data": {
      "image/png": "[encoded data removed]",
      "text/plain": [
       "<Figure size 432x288 with 1 Axes>"
      ]
     },
     "metadata": {
      "needs_background": "light"
     },
     "output_type": "display_data"
    }
   ],
   "source": [
    "Y = [theta0[147]+theta1[147]*a for a in x]\n",
    "\n",
    "plt.scatter(x,y)\n",
    "plt.plot(x,Y,\"g-\")\n",
    "\n",
    "plt.title(\"h(x) = 93.4788x + 429.15006\")\n",
    "plt.xlabel(\"x\")\n",
    "plt.ylabel(\"y\")"
   ]
  },
  {
   "cell_type": "markdown",
   "metadata": {},
   "source": [
    "# Test"
   ]
  },
  {
   "cell_type": "code",
   "execution_count": 16,
   "metadata": {},
   "outputs": [
    {
     "name": "stdout",
     "output_type": "stream",
     "text": [
      "-4 54\n"
     ]
    }
   ],
   "source": [
    "a = [-3,-1,0,1,4]\n",
    "b = [6,4,2,0,-8]\n",
    "temp=[0,0]\n",
    "\n",
    "sum_theta_0 = 0\n",
    "sum_theta_1 = 0\n",
    "for i in range(len(a)):\n",
    "    h = temp[0]+temp[1]*a[i]\n",
    "    theta_0 = h-b[i]\n",
    "    theta_1 = theta_0*a[i]\n",
    "    sum_theta_0 += theta_0\n",
    "    sum_theta_1 += theta_1\n",
    "print(sum_theta_0, sum_theta_1)"
   ]
  },
  {
   "cell_type": "code",
   "execution_count": 18,
   "metadata": {},
   "outputs": [
    {
     "name": "stdout",
     "output_type": "stream",
     "text": [
      "0.04 -0.54\n"
     ]
    }
   ],
   "source": [
    "update_theta_0 = temp[0]-eta*sum_theta_0\n",
    "update_theta_1 = temp[1]-eta*sum_theta_1\n",
    "print(update_theta_0, update_theta_1)"
   ]
  },
  {
   "cell_type": "markdown",
   "metadata": {},
   "source": [
    "# iteration-cost "
   ]
  },
  {
   "cell_type": "markdown",
   "metadata": {},
   "source": [
    "調整eta值   (P.24)"
   ]
  },
  {
   "cell_type": "code",
   "execution_count": 140,
   "metadata": {},
   "outputs": [],
   "source": [
    "eta = 0.01  #large\n",
    "\n",
    "count = 200\n",
    "temp = [0,0]\n",
    "theta0_L = [0]\n",
    "theta1_L = [0]\n",
    "costfunction_L = [1938623.5]\n",
    "\n",
    "for iter in range(1, count+1, 1):\n",
    "    sum_theta_0 = 0\n",
    "    sum_theta_1 = 0\n",
    "    for i in range(len(x)):\n",
    "        h = temp[0]+temp[1]*x[i]\n",
    "        theta_0 = h-y[i]\n",
    "        theta_1 = theta_0*x[i]\n",
    "        sum_theta_0 += theta_0\n",
    "        sum_theta_1 += theta_1\n",
    "    theta0_L.append(temp[0]-eta*sum_theta_0)\n",
    "    theta1_L.append(temp[1]-eta*sum_theta_1)\n",
    "    temp[0] = temp[0]-eta*sum_theta_0\n",
    "    temp[1] = temp[1]-eta*sum_theta_1\n",
    "    theta = temp\n",
    "    costfunction_L.append(ComputeCost(x,y))"
   ]
  },
  {
   "cell_type": "code",
   "execution_count": 141,
   "metadata": {},
   "outputs": [],
   "source": [
    "eta = 0.0005 #suitable\n",
    "\n",
    "count = 200\n",
    "temp = [0,0]\n",
    "theta0_S = [0]\n",
    "theta1_S = [0]\n",
    "costfunction_S = [1938623.5]\n",
    "\n",
    "for iter in range(1, count+1, 1):\n",
    "    sum_theta_0 = 0\n",
    "    sum_theta_1 = 0\n",
    "    for i in range(len(x)):\n",
    "        h = temp[0]+temp[1]*x[i]\n",
    "        theta_0 = h-y[i]\n",
    "        theta_1 = theta_0*x[i]\n",
    "        sum_theta_0 += theta_0\n",
    "        sum_theta_1 += theta_1\n",
    "    theta0_S.append(temp[0]-eta*sum_theta_0)\n",
    "    theta1_S.append(temp[1]-eta*sum_theta_1)\n",
    "    temp[0] = temp[0]-eta*sum_theta_0\n",
    "    temp[1] = temp[1]-eta*sum_theta_1\n",
    "    theta = temp\n",
    "    costfunction_S.append(ComputeCost(x,y))"
   ]
  },
  {
   "cell_type": "code",
   "execution_count": 142,
   "metadata": {},
   "outputs": [],
   "source": [
    "eta = 0.0001 #small\n",
    "\n",
    "count = 200\n",
    "temp = [0,0]\n",
    "theta0_Sm = [0]\n",
    "theta1_Sm = [0]\n",
    "costfunction_Sm = [1938623.5]\n",
    "\n",
    "for iter in range(1, count+1, 1):\n",
    "    sum_theta_0 = 0\n",
    "    sum_theta_1 = 0\n",
    "    for i in range(len(x)):\n",
    "        h = temp[0]+temp[1]*x[i]\n",
    "        theta_0 = h-y[i]\n",
    "        theta_1 = theta_0*x[i]\n",
    "        sum_theta_0 += theta_0\n",
    "        sum_theta_1 += theta_1\n",
    "    theta0_Sm.append(temp[0]-eta*sum_theta_0)\n",
    "    theta1_Sm.append(temp[1]-eta*sum_theta_1)\n",
    "    temp[0] = temp[0]-eta*sum_theta_0\n",
    "    temp[1] = temp[1]-eta*sum_theta_1\n",
    "    theta = temp\n",
    "    costfunction_Sm.append(ComputeCost(x,y))"
   ]
  },
  {
   "cell_type": "code",
   "execution_count": 155,
   "metadata": {},
   "outputs": [
    {
     "data": {
      "text/plain": [
       "([], <a list of 0 Text yticklabel objects>)"
      ]
     },
     "execution_count": 155,
     "metadata": {},
     "output_type": "execute_result"
    },
    {
     "data": {
      "image/png": "[encoded data removed]",
      "text/plain": [
       "<Figure size 432x288 with 1 Axes>"
      ]
     },
     "metadata": {},
     "output_type": "display_data"
    }
   ],
   "source": [
    "plt.plot(costfunction_L, label=\"large\")\n",
    "plt.plot(costfunction_S, label=\"suitable\")\n",
    "plt.plot(costfunction_Sm, label=\"small\")\n",
    "\n",
    "plt.title(\"Iteration-Cost\")\n",
    "plt.legend(loc=1)\n",
    "plt.xticks([])\n",
    "plt.yticks([])"
   ]
  },
  {
   "cell_type": "markdown",
   "metadata": {},
   "source": [
    "# 練習：加上二項式"
   ]
  },
  {
   "cell_type": "code",
   "execution_count": 46,
   "metadata": {},
   "outputs": [],
   "source": [
    "theta = [0,0,1]"
   ]
  },
  {
   "cell_type": "code",
   "execution_count": 47,
   "metadata": {},
   "outputs": [],
   "source": [
    "def ComputeCost_square(x,y):\n",
    "    sum_temp = 0\n",
    "    for i in range(len(x)):\n",
    "        h = theta[0]+theta[1]*x[i]+theta[2]*(x[i]**2)\n",
    "        temp = (h - y[i])**2 \n",
    "        sum_temp += temp\n",
    "    return sum_temp/2"
   ]
  },
  {
   "cell_type": "code",
   "execution_count": 48,
   "metadata": {},
   "outputs": [
    {
     "data": {
      "text/plain": [
       "1929649.627214437"
      ]
     },
     "execution_count": 48,
     "metadata": {},
     "output_type": "execute_result"
    }
   ],
   "source": [
    "ComputeCost_square(x, y)"
   ]
  },
  {
   "cell_type": "code",
   "execution_count": 49,
   "metadata": {},
   "outputs": [],
   "source": [
    "eta = 0.01"
   ]
  },
  {
   "cell_type": "code",
   "execution_count": 50,
   "metadata": {},
   "outputs": [],
   "source": [
    "count = 200\n",
    "temp = [0,0,1]\n",
    "theta0 = [0]\n",
    "theta1 = [0]\n",
    "theta2 = [1]\n",
    "costfunction = [1938623.5]\n",
    "\n",
    "for iter in range(1, count+1, 1):\n",
    "    sum_theta_0 = 0\n",
    "    sum_theta_1 = 0\n",
    "    sum_theta_2 = 1\n",
    "    for i in range(len(x)):\n",
    "        h = temp[0]+temp[1]*x[i]+temp[2]*(x[i]**2)\n",
    "        theta_0 = h-y[i]\n",
    "        theta_1 = theta_0*x[i]\n",
    "        theta_2 = theta_0*(x[i]**2)\n",
    "        sum_theta_0 += theta_0\n",
    "        sum_theta_1 += theta_1\n",
    "        sum_theta_2 += theta_2\n",
    "    theta0.append(temp[0]-eta*sum_theta_0)\n",
    "    theta1.append(temp[1]-eta*sum_theta_1)\n",
    "    theta2.append(temp[2]-eta*sum_theta_2)\n",
    "    temp[0] = temp[0]-eta*sum_theta_0\n",
    "    temp[1] = temp[1]-eta*sum_theta_1\n",
    "    temp[2] = temp[2]-eta*sum_theta_2\n",
    "    theta = temp\n",
    "    costfunction.append(ComputeCost_square(x,y))"
   ]
  },
  {
   "cell_type": "code",
   "execution_count": 51,
   "metadata": {},
   "outputs": [
    {
     "data": {
      "text/plain": [
       "201"
      ]
     },
     "execution_count": 51,
     "metadata": {},
     "output_type": "execute_result"
    }
   ],
   "source": [
    "len(costfunction)"
   ]
  },
  {
   "cell_type": "code",
   "execution_count": 52,
   "metadata": {},
   "outputs": [
    {
     "data": {
      "text/plain": [
       "97"
      ]
     },
     "execution_count": 52,
     "metadata": {},
     "output_type": "execute_result"
    }
   ],
   "source": [
    "costfunction.index(min(costfunction))"
   ]
  },
  {
   "cell_type": "code",
   "execution_count": 53,
   "metadata": {},
   "outputs": [],
   "source": [
    "theta_data2 = pd.DataFrame({\"theta0\":theta0,\n",
    "                    \"theta1\":theta1,\n",
    "                    \"theta2\":theta2,\n",
    "                    \"cost\":costfunction})"
   ]
  },
  {
   "cell_type": "code",
   "execution_count": 57,
   "metadata": {},
   "outputs": [
    {
     "data": {
      "text/plain": [
       "theta0     406.035953\n",
       "theta1      95.082054\n",
       "theta2      23.092418\n",
       "cost      3277.858630\n",
       "Name: 97, dtype: float64"
      ]
     },
     "execution_count": 57,
     "metadata": {},
     "output_type": "execute_result"
    }
   ],
   "source": [
    "theta_data2.iloc[97,:]"
   ]
  },
  {
   "cell_type": "code",
   "execution_count": 65,
   "metadata": {},
   "outputs": [
    {
     "data": {
      "text/plain": [
       "Text(0, 0.5, 'y')"
      ]
     },
     "execution_count": 65,
     "metadata": {},
     "output_type": "execute_result"
    },
    {
     "data": {
      "image/png": "[encoded data removed]",
      "text/plain": [
       "<Figure size 432x288 with 1 Axes>"
      ]
     },
     "metadata": {
      "needs_background": "light"
     },
     "output_type": "display_data"
    }
   ],
   "source": [
    "Y = [theta0[97]+theta1[97]*a for a in x]\n",
    "\n",
    "plt.scatter(x,y)\n",
    "v = np.linspace(-2,2,100)\n",
    "plt.plot(v, 23.092418*(v**2)+95.082054*v + 406.035953,\"g-\")\n",
    "\n",
    "plt.title(\"h(x) = 23.092418x^2 + 95.082054x + 406.035953\")\n",
    "plt.xlabel(\"x\")\n",
    "plt.ylabel(\"y\")"
   ]
  }
 ],
 "metadata": {
  "kernelspec": {
   "display_name": "Python 3",
   "language": "python",
   "name": "python3"
  },
  "language_info": {
   "codemirror_mode": {
    "name": "ipython",
    "version": 3
   },
   "file_extension": ".py",
   "mimetype": "text/x-python",
   "name": "python",
   "nbconvert_exporter": "python",
   "pygments_lexer": "ipython3",
   "version": "3.7.1"
  }
 },
 "nbformat": 4,
 "nbformat_minor": 2
}
