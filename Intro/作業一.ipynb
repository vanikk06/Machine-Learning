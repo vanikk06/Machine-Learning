{
 "cells": [
  {
   "cell_type": "markdown",
   "metadata": {},
   "source": [
    "# 第一題"
   ]
  },
  {
   "cell_type": "code",
   "execution_count": 94,
   "metadata": {
    "scrolled": false
   },
   "outputs": [
    {
     "data": {
      "text/plain": [
       "[0,\n",
       " 1,\n",
       " 1,\n",
       " 2,\n",
       " 3,\n",
       " 5,\n",
       " 8,\n",
       " 13,\n",
       " 21,\n",
       " 34,\n",
       " 55,\n",
       " 89,\n",
       " 144,\n",
       " 233,\n",
       " 377,\n",
       " 610,\n",
       " 987,\n",
       " 1597,\n",
       " 2584,\n",
       " 4181]"
      ]
     },
     "execution_count": 94,
     "metadata": {},
     "output_type": "execute_result"
    }
   ],
   "source": [
    "#Method_1\n",
    "\n",
    "def Fibo(x):\n",
    "    fibo = []\n",
    "    for i in range(x):\n",
    "        if i == 0:\n",
    "            fibo.append(0)\n",
    "        elif i == 1 :\n",
    "            fibo.append(1)\n",
    "        else:\n",
    "            fibo.append(fibo[i-1] + fibo[i-2])\n",
    "    return fibo\n",
    "\n",
    "Fibo(20)"
   ]
  },
  {
   "cell_type": "code",
   "execution_count": 16,
   "metadata": {},
   "outputs": [
    {
     "name": "stdout",
     "output_type": "stream",
     "text": [
      "[0, 1, 1, 2, 3, 5, 8, 13, 21, 34, 55, 89, 144, 233, 377, 610, 987, 1597, 2584, 4181]\n"
     ]
    }
   ],
   "source": [
    "#Method_2\n",
    "\n",
    "def Fibo(x):\n",
    "    a = [0,1]\n",
    "    i = 2\n",
    "        \n",
    "    while i<x:\n",
    "        a.append(a[i-1] + a[i-2])\n",
    "        i += 1\n",
    "    print(a)\n",
    "\n",
    "Fibo(20)"
   ]
  },
  {
   "cell_type": "code",
   "execution_count": 19,
   "metadata": {},
   "outputs": [
    {
     "name": "stdout",
     "output_type": "stream",
     "text": [
      "0\n",
      "1\n",
      "1\n",
      "2\n",
      "3\n",
      "5\n",
      "8\n",
      "13\n",
      "21\n",
      "34\n",
      "55\n",
      "89\n",
      "144\n",
      "233\n",
      "377\n",
      "610\n",
      "987\n",
      "1597\n",
      "2584\n",
      "4181\n"
     ]
    }
   ],
   "source": [
    "#Method_3\n",
    "\n",
    "a = 0\n",
    "print(a)\n",
    "\n",
    "x = 1\n",
    "y = 1\n",
    "print(x)\n",
    "print(y)\n",
    "\n",
    "for i in range(3,20):\n",
    "    z = x+y\n",
    "    print(z)\n",
    "    x = y\n",
    "    y = z"
   ]
  },
  {
   "cell_type": "code",
   "execution_count": 104,
   "metadata": {},
   "outputs": [
    {
     "name": "stdout",
     "output_type": "stream",
     "text": [
      "0\n",
      "1\n",
      "1\n",
      "2\n",
      "3\n",
      "5\n",
      "8\n",
      "13\n",
      "21\n",
      "34\n",
      "55\n",
      "89\n",
      "144\n",
      "233\n",
      "377\n",
      "610\n",
      "987\n",
      "1597\n",
      "2584\n",
      "4181\n"
     ]
    }
   ],
   "source": [
    "#Others\n",
    "\n",
    "a = 0\n",
    "b = 1\n",
    "c = 1\n",
    "\n",
    "print(a)\n",
    "print(b)\n",
    "print(c)\n",
    "\n",
    "for i in range(4,21):\n",
    "    d = b + c\n",
    "    print(d)\n",
    "    b = c\n",
    "    c = d"
   ]
  },
  {
   "cell_type": "code",
   "execution_count": 99,
   "metadata": {
    "scrolled": true
   },
   "outputs": [
    {
     "name": "stdout",
     "output_type": "stream",
     "text": [
      "0\n",
      "1\n",
      "1\n",
      "2\n",
      "3\n",
      "5\n",
      "8\n",
      "13\n",
      "21\n",
      "34\n",
      "55\n",
      "89\n",
      "144\n",
      "233\n",
      "377\n",
      "610\n",
      "987\n",
      "1597\n",
      "2584\n",
      "4181\n"
     ]
    }
   ],
   "source": [
    "#Others\n",
    "\n",
    "a=[0,1]\n",
    "for i in range(2,21):\n",
    "    a.append(a[i-1]+a[i-2])\n",
    "    \n",
    "for i in range(20):\n",
    "    print(a[i])"
   ]
  },
  {
   "cell_type": "markdown",
   "metadata": {},
   "source": [
    "# 第二題"
   ]
  },
  {
   "cell_type": "code",
   "execution_count": 14,
   "metadata": {
    "scrolled": true
   },
   "outputs": [
    {
     "name": "stdout",
     "output_type": "stream",
     "text": [
      "[-3, -2, -1, 0, 1, 2, 3]\n",
      "[-128, -35, -2, 1, 4, 37, 130]\n"
     ]
    },
    {
     "data": {
      "text/plain": [
       "Text(0.5, 1.0, 'y = 5x^3-2x+1')"
      ]
     },
     "execution_count": 14,
     "metadata": {},
     "output_type": "execute_result"
    },
    {
     "data": {
      "image/png": "[encoded data removed]",
      "text/plain": [
       "<Figure size 432x288 with 1 Axes>"
      ]
     },
     "metadata": {
      "needs_background": "light"
     },
     "output_type": "display_data"
    }
   ],
   "source": [
    "import matplotlib.pyplot as plt\n",
    "\n",
    "x = [i for i in range(-3,4,1)]\n",
    "y = [5*x**3-2*x+1 for x in x]\n",
    "\n",
    "print(x)\n",
    "print(y)\n",
    "\n",
    "plt.plot(x,y)\n",
    "plt.title(\"y = 5x^3-2x+1\")"
   ]
  },
  {
   "cell_type": "code",
   "execution_count": 4,
   "metadata": {},
   "outputs": [
    {
     "data": {
      "text/plain": [
       "Text(0.5, 1.0, 'y = 5x^3-2x+1')"
      ]
     },
     "execution_count": 4,
     "metadata": {},
     "output_type": "execute_result"
    },
    {
     "data": {
      "image/png": "[encoded data removed]",
      "text/plain": [
       "<Figure size 432x288 with 1 Axes>"
      ]
     },
     "metadata": {
      "needs_background": "light"
     },
     "output_type": "display_data"
    }
   ],
   "source": [
    "import matplotlib.pyplot as plt\n",
    "import numpy as np\n",
    "\n",
    "x = np.linspace(-3,3,100) \n",
    "y = [5*x**3-2*x+1 for x in x]\n",
    "\n",
    "plt.plot(x,y)\n",
    "plt.title(\"y = 5x^3-2x+1\")"
   ]
  },
  {
   "cell_type": "markdown",
   "metadata": {},
   "source": [
    "# 第三題"
   ]
  },
  {
   "cell_type": "code",
   "execution_count": 86,
   "metadata": {},
   "outputs": [
    {
     "name": "stdout",
     "output_type": "stream",
     "text": [
      "[36, 48, 50, 58, 65, 65, 68, 70, 70, 71, 75, 82, 83, 89, 90]\n",
      "{65, 36, 90, 70, 71, 68, 75, 48, 82, 50, 83, 89, 58}\n",
      "(15, 13)\n"
     ]
    }
   ],
   "source": [
    "x = [65,89,82,71,70,58,65,90,36,50,48,68,83,75,70]\n",
    "sort_x = sorted(x) #分散\n",
    "setX = set(x)\n",
    "length= len(x), len(setX) #重複性不高\n",
    "\n",
    "print(sort_x)\n",
    "print(setX)\n",
    "print(length)"
   ]
  },
  {
   "cell_type": "code",
   "execution_count": 93,
   "metadata": {},
   "outputs": [
    {
     "data": {
      "text/plain": [
       "(array([0., 2., 8., 5.]),\n",
       " array([  0,  25,  50,  75, 100]),\n",
       " <a list of 4 Patch objects>)"
      ]
     },
     "execution_count": 93,
     "metadata": {},
     "output_type": "execute_result"
    },
    {
     "data": {
      "image/png": "[encoded data removed]",
      "text/plain": [
       "<Figure size 432x288 with 1 Axes>"
      ]
     },
     "metadata": {
      "needs_background": "light"
     },
     "output_type": "display_data"
    }
   ],
   "source": [
    "plt.hist(x, bins=[0,25,50,75,100], edgecolor=\"black\")\n",
    "    #觀察原本的資料分布，發現資料分散且重複性不高，因此我將0到100分成四組，看資料的分散情形如何\n",
    "    #四組：[0,25],[25,50],[50,75],[75,100]"
   ]
  },
  {
   "cell_type": "markdown",
   "metadata": {},
   "source": [
    "# 第四題"
   ]
  },
  {
   "cell_type": "code",
   "execution_count": 19,
   "metadata": {
    "scrolled": false
   },
   "outputs": [
    {
     "data": {
      "text/plain": [
       "Text(0, 0.5, '年銷售額')"
      ]
     },
     "execution_count": 19,
     "metadata": {},
     "output_type": "execute_result"
    },
    {
     "data": {
      "image/png": "[encoded data removed]",
      "text/plain": [
       "<Figure size 432x288 with 1 Axes>"
      ]
     },
     "metadata": {
      "needs_background": "light"
     },
     "output_type": "display_data"
    }
   ],
   "source": [
    "import numpy as np\n",
    "import matplotlib.pyplot as plt\n",
    "\n",
    "x = [300,400,500,500,800,1000,1000,1300]\n",
    "y = [9500,10300,11000,12000,12400,13400,14500,15300]\n",
    "label = ['A', 'B', 'C', 'D', 'E', 'F', 'G', 'H']\n",
    "\n",
    "plt.scatter(x,y)\n",
    "\n",
    "for labels, x_count, y_count in zip(label, x, y):\n",
    "    plt.annotate(labels,\n",
    "                xy=(x_count, y_count),\n",
    "                xytext=(3.5,3),\n",
    "                textcoords=\"offset points\")\n",
    "\n",
    "plt.rcParams['font.sans-serif'] = ['Noto Sans Mono CJK TC']\n",
    "plt.title(\"分公司：廣告支出 vs. 年銷售額\")\n",
    "plt.xlabel(\"廣告支出\")\n",
    "plt.ylabel(\"年銷售額\")"
   ]
  }
 ],
 "metadata": {
  "kernelspec": {
   "display_name": "Python 3",
   "language": "python",
   "name": "python3"
  },
  "language_info": {
   "codemirror_mode": {
    "name": "ipython",
    "version": 3
   },
   "file_extension": ".py",
   "mimetype": "text/x-python",
   "name": "python",
   "nbconvert_exporter": "python",
   "pygments_lexer": "ipython3",
   "version": "3.7.1"
  }
 },
 "nbformat": 4,
 "nbformat_minor": 2
}
